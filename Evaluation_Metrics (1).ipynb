{
  "nbformat": 4,
  "nbformat_minor": 0,
  "metadata": {
    "colab": {
      "provenance": []
    },
    "kernelspec": {
      "name": "python3",
      "display_name": "Python 3"
    },
    "language_info": {
      "name": "python"
    }
  },
  "cells": [
    {
      "cell_type": "code",
      "execution_count": null,
      "metadata": {
        "id": "UQ95OEPHf-P7"
      },
      "outputs": [],
      "source": []
    },
    {
      "cell_type": "code",
      "source": [
        "\n",
        "#Q1.What does R-squared represent in a regression model\n",
        "#R-squared (R²) in a regression model represents how well the independent variable(s) explain the variation in the dependent variable. Basically, it's the \"Goodness of Fit\" of your model — like how much of the changes in your output (Y) are actually predicted by your input(s) (X).\n",
        "\n"
      ],
      "metadata": {
        "id": "9TAZZ72FgP_x"
      },
      "execution_count": null,
      "outputs": []
    },
    {
      "cell_type": "markdown",
      "source": [
        " # Q2.What are the assumptions of linear regression?\n",
        "Linear Regression makes these 🔑 assumptions:\n",
        "\n",
        "Linearity: Relationship between X and Y must be straight-line.\n",
        "Independence: Residuals (errors) should not be correlated.\n",
        "Normality: Residuals should follow a normal distribution.\n",
        "Homoscedasticity: Constant variance of residuals.\n",
        "No Multicollinearity: Independent variables shouldn't be highly correlated.\n",
        "# Q3. Difference between R-squared and Adjusted R-squared?\n",
        "Metric\n",
        "R-squared\n",
        "Adjusted R-squared\n",
        "Meaning\n",
        "% of variation explained\n",
        "Penalizes extra features\n",
        "When to Use\n",
        "Always\n",
        "Use for multiple features"
      ],
      "metadata": {
        "id": "5GNLIFCGg0G7"
      }
    },
    {
      "cell_type": "markdown",
      "source": [
        "#Q4.Why do we use Mean Squared Error (MSE)?\n",
        "MSE measures the average squared difference between predictions and actual values.\n",
        "\n",
        "Pros:\n",
        "\n",
        "Easy to calculate\n",
        "Smooth (because of squaring)\n",
        " Cons:\n",
        "\n",
        "Sensitive to outliers"
      ],
      "metadata": {
        "id": "MTQQpfXbh-WT"
      }
    },
    {
      "cell_type": "markdown",
      "source": [
        "#Q5.What does an Adjusted R-squared value of 0.85 indicate?\n",
        "It means 85% of the variation in the target variable is explained by the model AND it accounts for the number of predictors."
      ],
      "metadata": {
        "id": "NX-arcVsjL5j"
      }
    },
    {
      "cell_type": "markdown",
      "source": [
        "#Q6.How do we check for normality of residuals?\n",
        "Popular methods:\n",
        "\n",
        "Histogram 📊\n",
        "Q-Q Plot\n",
        "Shapiro-Wilk Test\n",
        "Kolmogorov-Smirnov Test\n",
        "Jarque-Bera Test"
      ],
      "metadata": {
        "id": "qcNSwtNljRVA"
      }
    },
    {
      "cell_type": "markdown",
      "source": [
        "#Q7.What is multicollinearity, and how does it impact regression?\n",
        "Multicollinearity = When two or more independent variables are highly correlated\n",
        "\n",
        " Why is it bad?\n",
        "\n",
        "Messes up coefficient estimates\n",
        "High variance\n",
        "Hard to interpret model"
      ],
      "metadata": {
        "id": "bpuht8mBjdzQ"
      }
    },
    {
      "cell_type": "markdown",
      "source": [
        "#Q8.What is Mean Absolute Error (MAE)?\n",
        "MAE = Average of absolute differences between predictions and actual values."
      ],
      "metadata": {
        "id": "poEZbsBMjjCy"
      }
    },
    {
      "cell_type": "markdown",
      "source": [
        "#Q9.What are the benefits of using an ML pipeline?\n",
        "Pipelines = Clean + Modular ML code.\n",
        "\n",
        "Benefits:\n",
        "\n",
        "Code Reusability\n",
        "Automated Preprocessing\n",
        "Easier Hyperparameter Tuning\n",
        "Reduces Leakage"
      ],
      "metadata": {
        "id": "w__kFvkJjyhq"
      }
    },
    {
      "cell_type": "markdown",
      "source": [
        "#Q10.Why is RMSE considered more interpretable than MSE?\n",
        "RMSE is in the same unit as the target variable — so it's easier to explain."
      ],
      "metadata": {
        "id": "DM7XhNR1j2mR"
      }
    },
    {
      "cell_type": "markdown",
      "source": [
        "#Q11.What is pickling in Python, and how is it useful in ML?\n",
        "Pickling = Saving ML models in binary format (.pkl file).\n",
        "\n",
        "Example:\n",
        "\n",
        "python\n",
        "Copy\n",
        "Edit\n",
        "import pickle\n",
        "with open('model.pkl', 'wb') as f:\n",
        "  pickle.dump(model, f)"
      ],
      "metadata": {
        "id": "w4Ci6oluj9R_"
      }
    },
    {
      "cell_type": "markdown",
      "source": [
        "#Q12 What does a high R-squared value mean?\n",
        "High R² means your model is explaining most of the variation in the dependent variable.\n",
        "\n",
        "But always check Adjusted R² to avoid flexing on garbage models"
      ],
      "metadata": {
        "id": "-sBEFgqVkgEQ"
      }
    },
    {
      "cell_type": "markdown",
      "source": [
        "#Q14.What happens if linear regression assumptions are violated?\n",
        "If assumptions are violated:\n",
        "\n",
        "Biased coefficients\n",
        "Wrong predictions\n",
        "Overfitting or underfitting"
      ],
      "metadata": {
        "id": "xrB_yxmsklNZ"
      }
    },
    {
      "cell_type": "markdown",
      "source": [
        "#Q15.How can we address multicollinearity in regression?\n",
        "Remove correlated features\n",
        "Use PCA (Principal Component Analysis)\n",
        "Ridge or Lasso Regression\n",
        "Calculate VIF & drop features with high VIF (>10 🚫)"
      ],
      "metadata": {
        "id": "Upi6Z73FkpxY"
      }
    },
    {
      "cell_type": "markdown",
      "source": [
        "#Q16.How can feature selection improve model performance?\n",
        "Less is more 🔥.\n",
        "\n",
        "Feature Selection:\n",
        "\n",
        "Reduces overfitting\n",
        "Improves model speed\n",
        "Better interpretability"
      ],
      "metadata": {
        "id": "3oAya2dJku3X"
      }
    },
    {
      "cell_type": "markdown",
      "source": [],
      "metadata": {
        "id": "t2eclv2Dk2Hw"
      }
    },
    {
      "cell_type": "markdown",
      "source": [
        "#Q17.How is Adjusted R-squared calculated?"
      ],
      "metadata": {
        "id": "GxxAVs6Ck4th"
      }
    },
    {
      "cell_type": "markdown",
      "source": [
        "Why is MSE sensitive to outliers?\n",
        "Because squared errors amplify the effect of large deviations.\n",
        "\n"
      ],
      "metadata": {
        "id": "nzq1rFhOk9eA"
      }
    },
    {
      "cell_type": "markdown",
      "source": [
        "#Q18.What is the role of homoscedasticity in linear regression?\n",
        "Homoscedasticity = Constant variance of residuals.\n",
        "\n",
        "Violation = Heteroscedasticity"
      ],
      "metadata": {
        "id": "5Gg7XMt7lKdg"
      }
    },
    {
      "cell_type": "markdown",
      "source": [
        " #Q19 What is Root Mean Squared Error (RMSE)?\n",
        "RMSE = Square root of MSE"
      ],
      "metadata": {
        "id": "-eVUW5relOPo"
      }
    },
    {
      "cell_type": "markdown",
      "source": [
        "#Q20.Why is pickling considered risky?\n",
        "Pickling can be risky if:\n",
        "\n",
        "File is tampered (Security Risk ⚠️)\n",
        "Not backward compatible between Python versions"
      ],
      "metadata": {
        "id": "-zp_vlcdlWOw"
      }
    },
    {
      "cell_type": "markdown",
      "source": [
        "#Q21.What is heteroscedasticity, and why is it a problem?\n",
        "Heteroscedasticity = Residuals have non-constant variance.\n",
        "\n",
        "Problem?\n",
        "\n",
        "Increases prediction error\n",
        "Invalidates confidence intervals"
      ],
      "metadata": {
        "id": "ANCiivNxleF4"
      }
    },
    {
      "cell_type": "markdown",
      "source": [
        "#Q22.How can interaction terms enhance a regression model's predictive power?\n",
        "Interaction terms show how two features combined impact the target variable — something that individual features alone can't capture.\n"
      ],
      "metadata": {
        "id": "2xJK9275ltfn"
      }
    },
    {
      "cell_type": "code",
      "source": [
        "#Practical\n",
        "import pandas as pd\n",
        "import seaborn as sns\n",
        "import numpy as np\n",
        "import matplotlib.pyplot as plt\n",
        "from sklearn.model_selection import train_test_split\n",
        "from sklearn.linear_model import LinearRegression\n",
        "from sklearn.preprocessing import StandardScaler, PolynomialFeatures\n",
        "from sklearn.pipeline import Pipeline\n",
        "from sklearn.metrics import mean_squared_error, mean_absolute_error, r2_score\n",
        "import pickle"
      ],
      "metadata": {
        "id": "nqoZr_0QmMs-"
      },
      "execution_count": null,
      "outputs": []
    },
    {
      "cell_type": "code",
      "source": [
        "#1. Write a Python script to visualize the distribution of errors (residuals) for a multiple linear regression model\n",
        "#using Seaborn's \"diamonds\" dataset.\n",
        "diamonds = sns.load_dataset('diamonds')\n",
        "X = diamonds[['carat', 'depth', 'table']]  # Select features\n",
        "y = diamonds['price']\n",
        "X_train, X_test, y_train, y_test = train_test_split(X, y, test_size=0.2, random_state=42)\n",
        "model = LinearRegression()\n",
        "model.fit(X_train, y_train)\n",
        "y_pred = model.predict(X_test)\n",
        "residuals = y_test - y_pred\n",
        "sns.histplot(residuals, bins=30, kde=True)\n",
        "plt.title(\"Residuals Distribution\")\n",
        "plt.show()\n"
      ],
      "metadata": {
        "colab": {
          "base_uri": "https://localhost:8080/",
          "height": 472
        },
        "id": "Hy4qW74OndiB",
        "outputId": "0e134f8f-6586-44f9-a95e-beaaf76f3683"
      },
      "execution_count": null,
      "outputs": [
        {
          "output_type": "display_data",
          "data": {
            "text/plain": [
              "<Figure size 640x480 with 1 Axes>"
            ],
            "image/png": "[encoded data removed]"
          },
          "metadata": {}
        }
      ]
    },
    {
      "cell_type": "code",
      "source": [
        "#2. Write a Python script to calculate and print Mean Squared Error (MSE), Mean Absolute Error (MAE), and Root\n",
        "# Mean Squared Error (RMSE) for a linear regression model.\n",
        "mse = mean_squared_error(y_test, y_pred)\n",
        "mae = mean_absolute_error(y_test, y_pred)\n",
        "rmse = np.sqrt(mse)\n",
        "print(f\"MSE: {mse}, MAE: {mae}, RMSE: {rmse}\")"
      ],
      "metadata": {
        "colab": {
          "base_uri": "https://localhost:8080/"
        },
        "id": "gFAVsS-1nu_Z",
        "outputId": "5c3dd85c-5380-4c06-a517-d49bce56f952"
      },
      "execution_count": null,
      "outputs": [
        {
          "output_type": "stream",
          "name": "stdout",
          "text": [
            "MSE: 2333883.1792799835, MAE: 994.736665092202, RMSE: 1527.7052003838908\n"
          ]
        }
      ]
    },
    {
      "cell_type": "code",
      "source": [
        "#3.Write a Python script to check if the assumptions of linear regression are met. Use a scatter plot to check\n",
        "#linearity, residuals plot for homoscedasticity, and correlation matrix for multicollinearity.\n",
        "def check_assumptions(X, y):\n",
        "    model = LinearRegression()\n",
        "    model.fit(X, y)\n",
        "    y_pred = model.predict(X)\n",
        "    residuals = y - y_pred\n",
        "\n",
        "    # Linearity Check\n",
        "    plt.figure(figsize=(10, 5))\n",
        "    plt.scatter(y, y_pred)\n",
        "    plt.title(\"Linearity Check\")\n",
        "    plt.xlabel(\"Actual Values\")\n",
        "    plt.ylabel(\"Predicted Values\")\n",
        "    plt.show()\n",
        "\n",
        "    # Homoscedasticity Check\n",
        "    plt.figure(figsize=(10, 5))\n",
        "    plt.scatter(y_pred, residuals)\n",
        "    plt.axhline(0, color='red', linestyle='--')\n",
        "    plt.title(\"Residuals Plot (Homoscedasticity Check)\")\n",
        "    plt.xlabel(\"Predicted Values\")\n",
        "    plt.ylabel(\"Residuals\")\n",
        "    plt.show()\n",
        "\n",
        "    # Multicollinearity Check\n",
        "    corr_matrix = pd.DataFrame(X).corr()\n",
        "    sns.heatmap(corr_matrix, annot=True, cmap='coolwarm')\n",
        "    plt.title(\"Correlation Matrix\")\n",
        "    plt.show()"
      ],
      "metadata": {
        "id": "hsBIFSHdn5A5"
      },
      "execution_count": null,
      "outputs": []
    },
    {
      "cell_type": "code",
      "source": [
        "#4. Write a Python script that creates a machine learning pipeline with feature scaling and evaluates the\n",
        "#performance of different regression models\n",
        "def evaluate_models(X, y):\n",
        "    models = [LinearRegression()]\n",
        "    model_names = [\"Linear Regression\"]\n",
        "\n",
        "    X_train, X_test, y_train, y_test = train_test_split(X, y, test_size=0.2, random_state=42)\n",
        "\n",
        "    for model, name in zip(models, model_names):\n",
        "        pipeline = Pipeline([\n",
        "            ('scaler', StandardScaler()),\n",
        "            ('model', model)\n",
        "        ])\n",
        "        pipeline.fit(X_train, y_train)\n",
        "        y_pred = pipeline.predict(X_test)\n",
        "        print(f\"{name} R-squared: {r2_score(y_test, y_pred):.4f}\")\n"
      ],
      "metadata": {
        "id": "7i16-X-2tPH_"
      },
      "execution_count": null,
      "outputs": []
    },
    {
      "cell_type": "code",
      "source": [
        "#5. Implement a simple linear regression model on a dataset and print the model's coefficients, intercept, and\n",
        "#R-squared score.\n",
        "def simple_linear_regression(X, y):\n",
        "    model = LinearRegression()\n",
        "    model.fit(X, y)\n",
        "    print(\"Coefficients:\", model.coef_)\n",
        "    print(\"Intercept:\", model.intercept_)\n",
        "    print(\"R-squared:\", model.score(X, y))"
      ],
      "metadata": {
        "id": "oc-HLqFztsrw"
      },
      "execution_count": null,
      "outputs": []
    },
    {
      "cell_type": "code",
      "source": [
        "#6. Write a Python script that analyzes the relationship between total bill and tip in the 'tips' dataset using\n",
        "#simple linear regression and visualizes the results.\n",
        "def tips_regression():\n",
        "    tips = sns.load_dataset(\"tips\")\n",
        "    X = tips[['total_bill']]\n",
        "    y = tips['tip']\n",
        "    simple_linear_regression(X, y)\n",
        "    plt.figure(figsize=(10, 5))\n",
        "    sns.regplot(x='total_bill', y='tip', data=tips, line_kws={\"color\": \"red\"})\n",
        "    plt.title(\"Total Bill vs Tip\")\n",
        "    plt.show()"
      ],
      "metadata": {
        "id": "vFQqgxFYt0Vg"
      },
      "execution_count": null,
      "outputs": []
    },
    {
      "cell_type": "code",
      "source": [
        "#7. Write a Python script that fits a linear regression model to a synthetic dataset with one feature. Use the\n",
        "#model to predict new values and plot the data points along with the regression line.\n",
        "def synthetic_one_feature():\n",
        "    X = np.random.rand(100, 1) * 10\n",
        "    y = 2.5 * X.squeeze() + np.random.randn(100) * 2\n",
        "    model = LinearRegression()\n",
        "    model.fit(X, y)\n",
        "    y_pred = model.predict(X)\n",
        "    plt.scatter(X, y, label=\"Data Points\")\n",
        "    plt.plot(X, y_pred, color='red', label=\"Regression Line\")\n",
        "    plt.legend()\n",
        "    plt.title(\"Simple Linear Regression on Synthetic Data\")\n",
        "    plt.show()\n",
        "\n",
        "\n"
      ],
      "metadata": {
        "id": "mvVwPtCkuAHP"
      },
      "execution_count": null,
      "outputs": []
    },
    {
      "cell_type": "code",
      "source": [
        "#8. Write a Python script that pickles a trained linear regression model and saves it to a file.\n",
        "def pickle_model():\n",
        "    X = np.random.rand(100, 1) * 10\n",
        "    y = 3 * X.squeeze() + 5 + np.random.randn(100) * 2\n",
        "    model = LinearRegression()\n",
        "    model.fit(X, y)\n",
        "    with open(\"linear_model.pkl\", \"wb\") as file:\n",
        "        pickle.dump(model, file)\n",
        "    print(\"Model saved to linear_model.pkl\")"
      ],
      "metadata": {
        "id": "XMLAXS8euKuA"
      },
      "execution_count": null,
      "outputs": []
    },
    {
      "cell_type": "code",
      "source": [
        "#9. Write a Python script that fits a polynomial regression model (degree 2) to a dataset and plots the\n",
        "#regression curve\n",
        "def polynomial_regression(X, y):\n",
        "    poly = PolynomialFeatures(degree=2)\n",
        "    X_poly = poly.fit_transform(X)\n",
        "    model = LinearRegression()\n",
        "    model.fit(X_poly, y)\n",
        "    y_pred = model.predict(X_poly)\n",
        "    plt.scatter(X, y, label=\"Data Points\")\n",
        "    plt.plot(np.sort(X.squeeze()), y_pred[np.argsort(X.squeeze())], color='red', label=\"Regression Curve\")\n",
        "    plt.legend()\n",
        "    plt.title(\"Polynomial Regression\")\n",
        "    plt.show()"
      ],
      "metadata": {
        "id": "jU3oaNDbuUTI"
      },
      "execution_count": null,
      "outputs": []
    },
    {
      "cell_type": "code",
      "source": [
        "#10. Generate synthetic data for simple linear regression (use random values for X and y) and fit a linear\n",
        "#regression model to the data. Print the model's coefficient and intercept.\n",
        "def generate_synthetic_data():\n",
        "    X = np.random.rand(100, 1) * 10\n",
        "    y = 4.5 * X.squeeze() + np.random.randn(100) * 3\n",
        "    model = LinearRegression()\n",
        "    model.fit(X, y)\n",
        "    print(\"Coefficient:\", model.coef_)\n",
        "    print(\"Intercept:\", model.intercept_)\n"
      ],
      "metadata": {
        "id": "z2RiS3FWuptS"
      },
      "execution_count": null,
      "outputs": []
    },
    {
      "cell_type": "code",
      "source": [
        "#11. Write a Python script that fits polynomial regression models of different degrees to a synthetic dataset and\n",
        "#compares their performance.\n",
        "def polynomial_comparison():\n",
        "    X = np.random.rand(100, 1) * 10\n",
        "    y = 2 * X.squeeze()**2 + 3 * X.squeeze() + 5 + np.random.randn(100) * 5\n",
        "    for degree in [1, 2, 3]:\n",
        "        poly = PolynomialFeatures(degree=degree)\n",
        "        X_poly = poly.fit_transform(X)\n",
        "        model = LinearRegression()\n",
        "        model.fit(X_poly, y)\n",
        "        y_pred = model.predict(X_poly)\n",
        "        print(f\"Degree {degree} R-squared: {r2_score(y, y_pred):.4f}\")\n",
        "\n",
        "\n"
      ],
      "metadata": {
        "id": "1jUfpIWAuwoP"
      },
      "execution_count": null,
      "outputs": []
    },
    {
      "cell_type": "code",
      "source": [
        "#12. Write a Python script that fits a simple linear regression model with two features and prints the model's\n",
        "#coefficients, intercept, and R-squared score.\n",
        "def linear_regression_two_features():\n",
        "    X = np.random.rand(100, 2) * 10\n",
        "    y = 3 * X[:, 0] + 2 * X[:, 1] + np.random.randn(100) * 3\n",
        "    model = LinearRegression()\n",
        "    model.fit(X, y)\n",
        "    print(\"Coefficients:\", model.coef_)\n",
        "    print(\"Intercept:\", model.intercept_)\n",
        "    print(\"R-squared:\", model.score(X, y))\n"
      ],
      "metadata": {
        "id": "s1EZBBC-u4An"
      },
      "execution_count": null,
      "outputs": []
    },
    {
      "cell_type": "code",
      "source": [
        "#13. Write a Python script that generates synthetic data, fits a linear regression model, and visualizes the\n",
        "#regression line along with the data points\n",
        "# 13. Visualization of Regression Line\n",
        "def visualize_regression_line():\n",
        "    X = np.random.rand(100, 1) * 10\n",
        "    y = 5 * X.squeeze() + np.random.randn(100) * 2\n",
        "    model = LinearRegression()\n",
        "    model.fit(X, y)\n",
        "    y_pred = model.predict(X)\n",
        "    plt.scatter(X, y, label=\"Data Points\")\n",
        "    plt.plot(X, y_pred, color='red', label=\"Regression Line\")\n",
        "    plt.legend()\n",
        "    plt.title(\"Regression Line Visualization\")\n",
        "    plt.show()\n"
      ],
      "metadata": {
        "id": "2Tqv-GUZu8rY"
      },
      "execution_count": null,
      "outputs": []
    },
    {
      "cell_type": "code",
      "source": [
        "# 14. VIF to Check Multicollinearity\n",
        "import pandas as pd\n",
        "import numpy as np\n",
        "from statsmodels.stats.outliers_influence import variance_inflation_factor\n",
        "from sklearn.datasets import load_diabetes\n",
        "\n",
        "# Load dataset\n",
        "data = load_diabetes()\n",
        "df = pd.DataFrame(data.data, columns=data.feature_names)"
      ],
      "metadata": {
        "id": "CalHZisi4uDO"
      },
      "execution_count": 1,
      "outputs": []
    },
    {
      "cell_type": "code",
      "source": [
        "# 15. Polynomial Regression (Degree 4)\n",
        "import numpy as np\n",
        "import matplotlib.pyplot as plt\n",
        "from sklearn.preprocessing import PolynomialFeatures\n",
        "from sklearn.linear_model import LinearRegression\n",
        "\n",
        "# Generate synthetic data\n",
        "np.random.seed(0)\n",
        "x = np.linspace(-3, 3, 100)\n",
        "y = 1 + 2*x + 3*x**2 + 4*x**3 + 5*x**4 + np.random.randn(100) * 20\n",
        "X = x[:, np.newaxis]\n",
        "\n",
        "# Polynomial transformation\n",
        "poly = PolynomialFeatures(degree=4)\n",
        "X_poly = poly.fit_transform(X)\n",
        "\n",
        "# Fit model\n",
        "model = LinearRegression().fit(X_poly, y)\n",
        "y_pred = model.predict(X_poly)\n",
        "\n",
        "# Plot\n",
        "plt.scatter(x, y, color='blue', label='Data')\n",
        "plt.plot(x, y_pred, color='red', label='Polynomial Fit')\n",
        "plt.legend()\n",
        "plt.show()\n"
      ],
      "metadata": {
        "colab": {
          "base_uri": "https://localhost:8080/",
          "height": 430
        },
        "id": "5pJ2CyWR4vPu",
        "outputId": "1512e63a-6b87-490c-c0e9-a5a38155a169"
      },
      "execution_count": 2,
      "outputs": [
        {
          "output_type": "display_data",
          "data": {
            "text/plain": [
              "<Figure size 640x480 with 1 Axes>"
            ],
            "image/png": "[encoded data removed]"
          },
          "metadata": {}
        }
      ]
    },
    {
      "cell_type": "code",
      "source": [
        "# 16. Pipeline with Standardization and Multiple Linear Regression\n",
        "from sklearn.pipeline import Pipeline\n",
        "from sklearn.preprocessing import StandardScaler\n",
        "from sklearn.model_selection import train_test_split\n",
        "\n",
        "# Split data\n",
        "X_train, X_test, y_train, y_test = train_test_split(df, data.target, test_size=0.2, random_state=0)\n",
        "\n",
        "# Pipeline\n",
        "pipeline = Pipeline([\n",
        "    ('scaler', StandardScaler()),\n",
        "    ('regressor', LinearRegression())\n",
        "])\n",
        "\n",
        "pipeline.fit(X_train, y_train)\n",
        "print(\"R-squared Score:\", pipeline.score(X_test, y_test))\n"
      ],
      "metadata": {
        "colab": {
          "base_uri": "https://localhost:8080/"
        },
        "id": "ovE5iRKM422W",
        "outputId": "6e5c95b3-4740-4b84-f4d3-a6cb824a7020"
      },
      "execution_count": 3,
      "outputs": [
        {
          "output_type": "stream",
          "name": "stdout",
          "text": [
            "R-squared Score: 0.3322332173106186\n"
          ]
        }
      ]
    },
    {
      "cell_type": "code",
      "source": [
        "# 17. Polynomial Regression (Degree 3)\n",
        "x = np.linspace(-3, 3, 100)\n",
        "y = 1 + 2*x + 3*x**2 + np.random.randn(100) * 10\n",
        "X = x[:, np.newaxis]\n",
        "poly = PolynomialFeatures(degree=3)\n",
        "X_poly = poly.fit_transform(X)\n",
        "model = LinearRegression().fit(X_poly, y)\n",
        "y_pred = model.predict(X_poly)\n",
        "plt.scatter(x, y, color='blue', label='Data')\n",
        "plt.plot(x, y_pred, color='red', label='Polynomial Fit')\n",
        "plt.legend()\n",
        "plt.show()"
      ],
      "metadata": {
        "colab": {
          "base_uri": "https://localhost:8080/",
          "height": 430
        },
        "id": "PPkF5zSX46Lm",
        "outputId": "b81a7233-deff-4960-ab86-77ecd1d1e5f9"
      },
      "execution_count": 4,
      "outputs": [
        {
          "output_type": "display_data",
          "data": {
            "text/plain": [
              "<Figure size 640x480 with 1 Axes>"
            ],
            "image/png": "[encoded data removed]"
          },
          "metadata": {}
        }
      ]
    },
    {
      "cell_type": "code",
      "source": [
        "# 18. Multiple Linear Regression with 5 Features\n",
        "X, y = np.random.rand(100, 5), np.random.rand(100)\n",
        "model = LinearRegression().fit(X, y)\n",
        "print(\"R-squared Score:\", model.score(X, y))\n",
        "print(\"Coefficients:\", model.coef_)"
      ],
      "metadata": {
        "colab": {
          "base_uri": "https://localhost:8080/"
        },
        "id": "lB6_Hs5X49Su",
        "outputId": "63fa8447-f809-4f2f-e82f-b37f61b20b23"
      },
      "execution_count": 5,
      "outputs": [
        {
          "output_type": "stream",
          "name": "stdout",
          "text": [
            "R-squared Score: 0.07761330003243905\n",
            "Coefficients: [-0.10615967 -0.14611893  0.1783101   0.01139213  0.15790985]\n"
          ]
        }
      ]
    },
    {
      "cell_type": "code",
      "source": [
        "# 19. Linear Regression Visualization\n",
        "X, y = np.random.rand(100, 1) * 10, np.random.rand(100) * 50\n",
        "model = LinearRegression().fit(X, y)\n",
        "y_pred = model.predict(X)\n",
        "plt.scatter(X, y, color='blue', label='Data')\n",
        "plt.plot(X, y_pred, color='red', label='Regression Line')\n",
        "plt.legend()\n",
        "plt.show()\n",
        "\n"
      ],
      "metadata": {
        "colab": {
          "base_uri": "https://localhost:8080/",
          "height": 430
        },
        "id": "yB1myg1O5IFu",
        "outputId": "baefa3c5-7607-41b5-8008-3eef3aa15494"
      },
      "execution_count": 6,
      "outputs": [
        {
          "output_type": "display_data",
          "data": {
            "text/plain": [
              "<Figure size 640x480 with 1 Axes>"
            ],
            "image/png": "[encoded data removed]"
          },
          "metadata": {}
        }
      ]
    },
    {
      "cell_type": "code",
      "source": [
        "# 20. Multiple Linear Regression with 3 Features\n",
        "X, y = np.random.rand(100, 3), np.random.rand(100)\n",
        "model = LinearRegression().fit(X, y)\n",
        "print(\"R-squared Score:\", model.score(X, y))\n",
        "print(\"Coefficients:\", model.coef_)\n"
      ],
      "metadata": {
        "colab": {
          "base_uri": "https://localhost:8080/"
        },
        "id": "sTyom78s6zsU",
        "outputId": "71467c1f-3619-4d8f-dde0-ab6ab6837085"
      },
      "execution_count": 7,
      "outputs": [
        {
          "output_type": "stream",
          "name": "stdout",
          "text": [
            "R-squared Score: 0.01483438274107729\n",
            "Coefficients: [ 0.00727723 -0.04234451  0.11000356]\n"
          ]
        }
      ]
    },
    {
      "cell_type": "code",
      "source": [
        "# 21. Serialize and Deserialize using Joblib\n",
        "import joblib\n",
        "model = LinearRegression().fit(X, y)\n",
        "joblib.dump(model, 'model.pkl')\n",
        "loaded_model = joblib.load('model.pkl')\n",
        "print(\"Loaded Model R-squared:\", loaded_model.score(X, y))"
      ],
      "metadata": {
        "colab": {
          "base_uri": "https://localhost:8080/"
        },
        "id": "7g7J-ULy62fp",
        "outputId": "fbd96b68-7ece-4dc4-f842-149c66424163"
      },
      "execution_count": 8,
      "outputs": [
        {
          "output_type": "stream",
          "name": "stdout",
          "text": [
            "Loaded Model R-squared: 0.01483438274107729\n"
          ]
        }
      ]
    },
    {
      "cell_type": "code",
      "source": [
        "# 22. Linear Regression with Categorical Features\n",
        "import seaborn as sns\n",
        "from sklearn.compose import ColumnTransformer\n",
        "from sklearn.preprocessing import OneHotEncoder\n",
        "\n",
        "data = sns.load_dataset('tips')\n",
        "X = data[['total_bill', 'sex', 'smoker']]\n",
        "y = data['tip']\n",
        "ct = ColumnTransformer([('encoder', OneHotEncoder(), ['sex', 'smoker'])], remainder='passthrough')\n",
        "X = ct.fit_transform(X)\n",
        "model = LinearRegression().fit(X, y)\n",
        "print(\"R-squared Score:\", model.score(X, y))"
      ],
      "metadata": {
        "colab": {
          "base_uri": "https://localhost:8080/"
        },
        "id": "MYX35rUY65-p",
        "outputId": "60c38ef2-4063-4175-943e-16fb3c82cd03"
      },
      "execution_count": 9,
      "outputs": [
        {
          "output_type": "stream",
          "name": "stdout",
          "text": [
            "R-squared Score: 0.45943317094487623\n"
          ]
        }
      ]
    },
    {
      "cell_type": "code",
      "source": [
        "# 23. Ridge vs Linear Regression\n",
        "from sklearn.linear_model import Ridge\n",
        "X, y = np.random.rand(100, 5), np.random.rand(100)\n",
        "model_lr = LinearRegression().fit(X, y)\n",
        "model_ridge = Ridge(alpha=1.0).fit(X, y)\n",
        "print(\"Linear Regression Coefficients:\", model_lr.coef_)\n",
        "print(\"Ridge Regression Coefficients:\", model_ridge.coef_)\n",
        "print(\"Linear R-squared:\", model_lr.score(X, y))\n",
        "print(\"Ridge R-squared:\", model_ridge.score(X, y))"
      ],
      "metadata": {
        "colab": {
          "base_uri": "https://localhost:8080/"
        },
        "id": "9MQMwig-67BZ",
        "outputId": "15d52fcc-365f-491b-e2f1-1c0349101c73"
      },
      "execution_count": 10,
      "outputs": [
        {
          "output_type": "stream",
          "name": "stdout",
          "text": [
            "Linear Regression Coefficients: [ 0.16536842 -0.10702443  0.06390568  0.16162614 -0.00434273]\n",
            "Ridge Regression Coefficients: [ 0.14812867 -0.09439541  0.0645765   0.14089943 -0.00561859]\n",
            "Linear R-squared: 0.07040423419416475\n",
            "Ridge R-squared: 0.0696453992527385\n"
          ]
        }
      ]
    },
    {
      "cell_type": "code",
      "source": [
        "# 24. Cross-Validation with Linear Regression\n",
        "from sklearn.model_selection import cross_val_score\n",
        "X, y = np.random.rand(100, 3), np.random.rand(100)\n",
        "scores = cross_val_score(LinearRegression(), X, y, cv=5)\n",
        "print(\"Cross-Validation Scores:\", scores)\n",
        "print(\"Mean Score:\", np.mean(scores))"
      ],
      "metadata": {
        "colab": {
          "base_uri": "https://localhost:8080/"
        },
        "id": "cC5j2y5-6-vh",
        "outputId": "00eeba89-1c88-4798-aa0a-002da8c71630"
      },
      "execution_count": 11,
      "outputs": [
        {
          "output_type": "stream",
          "name": "stdout",
          "text": [
            "Cross-Validation Scores: [-0.12764579 -0.02267663  0.0182043  -0.03508944 -0.08244456]\n",
            "Mean Score: -0.049930424092945194\n"
          ]
        }
      ]
    },
    {
      "cell_type": "code",
      "source": [
        "# 25. Polynomial Regression Comparison\n",
        "degrees = [1, 2, 3, 4]\n",
        "x = np.linspace(-3, 3, 100)\n",
        "y = 1 + 2*x + 3*x**2 + np.random.randn(100) * 10\n",
        "X = x[:, np.newaxis]\n",
        "\n",
        "for degree in degrees:\n",
        "    poly = PolynomialFeatures(degree=degree)\n",
        "    X_poly = poly.fit_transform(X)\n",
        "    model = LinearRegression().fit(X_poly, y)\n",
        "    print(f\"Degree {degree} R-squared: {model.score(X_poly, y)}\")\n"
      ],
      "metadata": {
        "colab": {
          "base_uri": "https://localhost:8080/"
        },
        "id": "IdnpulIV7Bai",
        "outputId": "888a2b4e-a446-4182-e7d3-84a4423f10d3"
      },
      "execution_count": 12,
      "outputs": [
        {
          "output_type": "stream",
          "name": "stdout",
          "text": [
            "Degree 1 R-squared: 0.06038910451334123\n",
            "Degree 2 R-squared: 0.40999723198581317\n",
            "Degree 3 R-squared: 0.4100454601022713\n",
            "Degree 4 R-squared: 0.4126509081511479\n"
          ]
        }
      ]
    },
    {
      "cell_type": "markdown",
      "source": [
        "How can interaction terms enhance regression models?\n",
        "Interaction terms (X1 * X2) capture the combined effect of two features."
      ],
      "metadata": {
        "id": "1wUneKT1lgbo"
      }
    },
    {
      "cell_type": "markdown",
      "source": [],
      "metadata": {
        "id": "z1EESKBQljIw"
      }
    },
    {
      "cell_type": "markdown",
      "source": [],
      "metadata": {
        "id": "SQrMlBeAiIba"
      }
    }
  ]
}